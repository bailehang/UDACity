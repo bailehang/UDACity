{
 "cells": [
  {
   "attachments": {},
   "cell_type": "markdown",
   "id": "6c245154-f236-4a17-82b5-51e4afd217a7",
   "metadata": {},
   "source": [
    "# Deep Q-Network for agent train\n",
    "\n",
    "# Introduction\n",
    "Drawing from the research presented in the [Deep Q-Learning](https://storage.googleapis.com/deepmind-media/dqn/DQNNaturePaper.pdf) a unity envrioment will be used to train a human like player to plat the banana capture game. Where a player moved around and picks up yellow bananas to pick up a point and and avoid blue bananas that make the player lose a point. Leveraging the unity enviroment allows for a bit of system simiplification. In the information printed from the enviroment outputs below we see that there are 4 discrete actions and discrete state space of 37. This is a bit of naive method since there is not really known about what this vector space represents. For instance does it represent speed, the pixel method in the paper would include information about the changes in state."
   ]
  },
  {
   "cell_type": "code",
   "execution_count": 1,
   "id": "94f97436-2d6a-4642-9972-251b89b0956f",
   "metadata": {},
   "outputs": [],
   "source": [
    "from unityagents import UnityEnvironment\n",
    "import numpy as np\n",
    "from collections import deque\n",
    "import torch\n",
    "import matplotlib.pyplot as plt\n",
    "%matplotlib inline"
   ]
  },
  {
   "cell_type": "code",
   "execution_count": 2,
   "id": "2fa713c6",
   "metadata": {},
   "outputs": [
    {
     "name": "stdout",
     "output_type": "stream",
     "text": [
      "cuda:0\n",
      "True\n",
      "1.10.0+cu113\n",
      "1\n"
     ]
    }
   ],
   "source": [
    "print(torch.device(\"cuda:0\" if torch.cuda.is_available() else \"cpu\"))\n",
    "print(torch.cuda.is_available())\n",
    "print(torch.__version__)\n",
    "print(torch.cuda.device_count())"
   ]
  },
  {
   "cell_type": "code",
   "execution_count": 3,
   "id": "b63fac0f-6c21-4668-8a73-ccb1f876a11c",
   "metadata": {},
   "outputs": [
    {
     "name": "stderr",
     "output_type": "stream",
     "text": [
      "INFO:unityagents:\n",
      "'Academy' started successfully!\n",
      "Unity Academy name: Academy\n",
      "        Number of Brains: 1\n",
      "        Number of External Brains : 1\n",
      "        Lesson number : 0\n",
      "        Reset Parameters :\n",
      "\t\t\n",
      "Unity brain name: BananaBrain\n",
      "        Number of Visual Observations (per agent): 0\n",
      "        Vector Observation space type: continuous\n",
      "        Vector Observation space size (per agent): 37\n",
      "        Number of stacked Vector Observation: 1\n",
      "        Vector Action space type: discrete\n",
      "        Vector Action space size (per agent): 4\n",
      "        Vector Action descriptions: , , , \n"
     ]
    }
   ],
   "source": [
    "## Load the Unity Enviroment\n",
    "env = UnityEnvironment(file_name='Banana_Windows_x86_64\\\\Banana_Windows_x86_64\\\\Banana.exe')\n"
   ]
  },
  {
   "cell_type": "code",
   "execution_count": 4,
   "id": "ed042efe-7f6e-46a1-a66c-d8bba7f25fef",
   "metadata": {},
   "outputs": [],
   "source": [
    "# get the default brain\n",
    "brain_name = env.brain_names[0]\n",
    "brain = env.brains[brain_name]"
   ]
  },
  {
   "cell_type": "code",
   "execution_count": 5,
   "id": "8ee39f77-bf0f-4551-bb51-d2fe66816d51",
   "metadata": {},
   "outputs": [
    {
     "name": "stdout",
     "output_type": "stream",
     "text": [
      "Number of agents: 1\n",
      "Number of actions: 4\n",
      "States look like: [1.         0.         0.         0.         0.84408134 0.\n",
      " 0.         1.         0.         0.0748472  0.         1.\n",
      " 0.         0.         0.25755    1.         0.         0.\n",
      " 0.         0.74177343 0.         1.         0.         0.\n",
      " 0.25854847 0.         0.         1.         0.         0.09355672\n",
      " 0.         1.         0.         0.         0.31969345 0.\n",
      " 0.        ]\n",
      "States have shape (37,)\n"
     ]
    }
   ],
   "source": [
    "# reset the environment\n",
    "env_info = env.reset(train_mode=True)[brain_name]\n",
    "\n",
    "# number of agents in the environment\n",
    "print('Number of agents:', len(env_info.agents))\n",
    "\n",
    "# number of actions\n",
    "action_size = brain.vector_action_space_size\n",
    "print('Number of actions:', action_size)\n",
    "\n",
    "# examine the state space \n",
    "state = env_info.vector_observations[0]\n",
    "print('States look like:', state)\n",
    "state_size = len(state)\n",
    "print('States have shape',state.shape)\n"
   ]
  },
  {
   "cell_type": "markdown",
   "id": "2408327a-6e88-44ec-838a-320d81d66ded",
   "metadata": {},
   "source": [
    "# Learning Algorithim\n",
    "## Agent\n",
    "Next, using the information from the enviroment we create the agent which consists of the following key components:\n",
    "1. ReplayBuffer - Fixed size buffer to store experience tuples which stores the state, action, reward, next_state, and done.\n",
    "2. QNetwork Local - Nueral Network (NN) with an input size of the state and output size of the action space. It includes two hidden layers with 64 units. Resulting in a feed forward Nueral Network. Used to store the current best policy.\n",
    "3. QNetwork Target - Similar NN architecture to 'QNetwork Local'. Gets trained on batches from the ReplayBuffer."
   ]
  },
  {
   "cell_type": "code",
   "execution_count": 6,
   "id": "b93da4b9-e0bb-419f-bf16-1d466df4a452",
   "metadata": {},
   "outputs": [
    {
     "name": "stdout",
     "output_type": "stream",
     "text": [
      "device:  cuda:0\n"
     ]
    }
   ],
   "source": [
    "from dqn_agent import Agent\n",
    "\n",
    "agent = Agent(state_size=37, action_size=4, seed=0)"
   ]
  },
  {
   "cell_type": "markdown",
   "id": "6e4d5cd3-9cb5-488f-8119-537f0fcf33ae",
   "metadata": {},
   "source": [
    "## DQN Process\n",
    "A fixed window of 100 scores will be used as an average to analyze how our agent is training. For each of our defined experiments we start a new session. Then we take action either until we reach the set threshold or the session is ended. In this step the following occurs.\n",
    "1. Get Action from the current policy\n",
    "1. Play the action and get the enviroment info\n",
    "1. Step the Agent\n",
    "    1. Add the state next state relationship to the memory buffer\n",
    "    1. If the step is an update_entry window (in this case we are updating every 4-steps) and the replay buffer has more entries than the batch size, then weights are updated in the current policy\n",
    "1. After Session End\n",
    "    1. Scores are added to buffer\n",
    "    1. eps is reduced (As more sessions are completed the agent should be getting better so we would like to reduce the probability of random actions."
   ]
  },
  {
   "cell_type": "code",
   "execution_count": 7,
   "id": "91386268-43bd-4f16-97ec-369c5fac2bf3",
   "metadata": {},
   "outputs": [
    {
     "name": "stdout",
     "output_type": "stream",
     "text": [
      "Episode 100\tAverage Score: 0.64\n",
      "Episode 200\tAverage Score: 3.19\n",
      "Episode 300\tAverage Score: 7.16\n",
      "Episode 400\tAverage Score: 11.44\n",
      "Episode 460\tAverage Score: 13.03\n",
      "Environment solved in 360 episodes!\tAverage Score: 13.03\n"
     ]
    }
   ],
   "source": [
    "def dqn(n_episodes=2000, max_t=1000, eps_start=1.0, eps_end=0.01, eps_decay=0.995):\n",
    "    \"\"\"Deep Q-Learning.\n",
    "    \n",
    "    Params\n",
    "    ======\n",
    "        n_episodes (int): maximum number of training episodes\n",
    "        max_t (int): maximum number of timesteps per episode\n",
    "        eps_start (float): starting value of epsilon, for epsilon-greedy action selection\n",
    "        eps_end (float): minimum value of epsilon\n",
    "        eps_decay (float): multiplicative factor (per episode) for decreasing epsilon\n",
    "    \"\"\"\n",
    "    scores = []                        # list containing scores from each episode\n",
    "    scores_window = deque(maxlen=100)  # last 100 scores\n",
    "    moving_avgs = []                   # list of moving averages\n",
    "    eps = eps_start                    # initialize epsilon\n",
    "    for i_episode in range(1, n_episodes+1):\n",
    "        env_info = env.reset(train_mode=True)[brain_name] # reset the environment\n",
    "        state = env_info.vector_observations[0]            # get the current state\n",
    "        score = 0\n",
    "        for t in range(max_t):\n",
    "            action = agent.act(state, eps) #Select an Action\n",
    "            action = action.astype(np.int32)\n",
    "            env_info = env.step(action)[brain_name]        # send the action to the environment\n",
    "            next_state = env_info.vector_observations[0]   # get the next state\n",
    "            reward = env_info.rewards[0]                   # get the reward\n",
    "            done = env_info.local_done[0]                  # see if episode has finished\n",
    "            agent.step(state, action, reward, next_state, done)\n",
    "            state = next_state\n",
    "            score += reward\n",
    "            if done:\n",
    "                break \n",
    "        scores_window.append(score)       # save most recent score\n",
    "        scores.append(score)              # save most recent score\n",
    "        moving_avg = np.mean(scores_window)  # calculate moving average\n",
    "        moving_avgs.append(moving_avg)       # save most recent moving average\n",
    "        eps = max(eps_end, eps_decay*eps) # decrease epsilon\n",
    "        print('\\rEpisode {}\\tAverage Score: {:.2f}'.format(i_episode, np.mean(scores_window)), end=\"\")\n",
    "        if i_episode % 100 == 0:\n",
    "            print('\\rEpisode {}\\tAverage Score: {:.2f}'.format(i_episode, np.mean(scores_window)))\n",
    "        if np.mean(scores_window)>=13.0:\n",
    "            print('\\nEnvironment solved in {:d} episodes!\\tAverage Score: {:.2f}'.format(i_episode-100, np.mean(scores_window)))\n",
    "            torch.save(agent.qnetwork_local.state_dict(), 'checkpoint.pth')\n",
    "            break\n",
    "    return scores, moving_avgs\n",
    "\n",
    "scores, avgs = dqn()\n"
   ]
  },
  {
   "cell_type": "markdown",
   "id": "ccf34523-8f6e-4f2c-842b-1d5f2147cdf7",
   "metadata": {},
   "source": [
    "# Plot of Rewards"
   ]
  },
  {
   "cell_type": "code",
   "execution_count": 8,
   "id": "c31e2da1-9aed-483f-aece-d814d7d1c592",
   "metadata": {},
   "outputs": [
    {
     "data": {
      "image/png": "[encoded data removed]",
      "text/plain": [
       "<Figure size 432x288 with 1 Axes>"
      ]
     },
     "metadata": {
      "needs_background": "light"
     },
     "output_type": "display_data"
    }
   ],
   "source": [
    "# env.close()\n",
    "# plot the scores\n",
    "fig = plt.figure()\n",
    "ax = fig.add_subplot(111)\n",
    "plt.plot(np.arange(len(scores)), scores, label='scores')\n",
    "plt.plot(np.arange(len(scores)), avgs, c='r', label='average')\n",
    "plt.ylabel('Score')\n",
    "plt.xlabel('Episode #')\n",
    "plt.legend(loc='upper left');\n",
    "plt.show()"
   ]
  }
 ],
 "metadata": {
  "kernelspec": {
   "display_name": "drlnd",
   "language": "python",
   "name": "python3"
  },
  "language_info": {
   "codemirror_mode": {
    "name": "ipython",
    "version": 3
   },
   "file_extension": ".py",
   "mimetype": "text/x-python",
   "name": "python",
   "nbconvert_exporter": "python",
   "pygments_lexer": "ipython3",
   "version": "3.6.13"
  }
 },
 "nbformat": 4,
 "nbformat_minor": 5
}
